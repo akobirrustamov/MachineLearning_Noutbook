{
 "cells": [
  {
   "cell_type": "markdown",
   "id": "7154cc0a-aa4d-43f5-b1ef-40bc4aecf369",
   "metadata": {},
   "source": [
    "![Imgur](https://i.imgur.com/5pXzCIu.png)\n",
    "\n",
    "# Data Science va Sun'iy Intellekt Praktikum\n",
    "\n",
    "## 5-MODUL. Machine Learning. \n",
    "\n",
    "### Linear Regression"
   ]
  },
  {
   "cell_type": "code",
   "execution_count": 22,
   "id": "84bfdab2-9d2d-450e-8490-1ab72e912abf",
   "metadata": {},
   "outputs": [
    {
     "data": {
      "text/html": [
       "<div>\n",
       "<style scoped>\n",
       "    .dataframe tbody tr th:only-of-type {\n",
       "        vertical-align: middle;\n",
       "    }\n",
       "\n",
       "    .dataframe tbody tr th {\n",
       "        vertical-align: top;\n",
       "    }\n",
       "\n",
       "    .dataframe thead th {\n",
       "        text-align: right;\n",
       "    }\n",
       "</style>\n",
       "<table border=\"1\" class=\"dataframe\">\n",
       "  <thead>\n",
       "    <tr style=\"text-align: right;\">\n",
       "      <th></th>\n",
       "      <th>district</th>\n",
       "      <th>rooms</th>\n",
       "      <th>size</th>\n",
       "      <th>level</th>\n",
       "      <th>max_levels</th>\n",
       "      <th>price</th>\n",
       "    </tr>\n",
       "  </thead>\n",
       "  <tbody>\n",
       "    <tr>\n",
       "      <th>0</th>\n",
       "      <td>Юнусабадский</td>\n",
       "      <td>3</td>\n",
       "      <td>57.0</td>\n",
       "      <td>4</td>\n",
       "      <td>4</td>\n",
       "      <td>52000.0</td>\n",
       "    </tr>\n",
       "    <tr>\n",
       "      <th>1</th>\n",
       "      <td>Яккасарайский</td>\n",
       "      <td>2</td>\n",
       "      <td>52.0</td>\n",
       "      <td>4</td>\n",
       "      <td>5</td>\n",
       "      <td>56000.0</td>\n",
       "    </tr>\n",
       "    <tr>\n",
       "      <th>2</th>\n",
       "      <td>Чиланзарский</td>\n",
       "      <td>2</td>\n",
       "      <td>42.0</td>\n",
       "      <td>4</td>\n",
       "      <td>4</td>\n",
       "      <td>37000.0</td>\n",
       "    </tr>\n",
       "    <tr>\n",
       "      <th>3</th>\n",
       "      <td>Чиланзарский</td>\n",
       "      <td>3</td>\n",
       "      <td>65.0</td>\n",
       "      <td>1</td>\n",
       "      <td>4</td>\n",
       "      <td>49500.0</td>\n",
       "    </tr>\n",
       "    <tr>\n",
       "      <th>4</th>\n",
       "      <td>Чиланзарский</td>\n",
       "      <td>3</td>\n",
       "      <td>70.0</td>\n",
       "      <td>3</td>\n",
       "      <td>5</td>\n",
       "      <td>55000.0</td>\n",
       "    </tr>\n",
       "    <tr>\n",
       "      <th>5</th>\n",
       "      <td>Чиланзарский</td>\n",
       "      <td>1</td>\n",
       "      <td>28.0</td>\n",
       "      <td>1</td>\n",
       "      <td>4</td>\n",
       "      <td>25500.0</td>\n",
       "    </tr>\n",
       "    <tr>\n",
       "      <th>6</th>\n",
       "      <td>Чиланзарский</td>\n",
       "      <td>1</td>\n",
       "      <td>30.0</td>\n",
       "      <td>2</td>\n",
       "      <td>4</td>\n",
       "      <td>21200.0</td>\n",
       "    </tr>\n",
       "    <tr>\n",
       "      <th>7</th>\n",
       "      <td>Яккасарайский</td>\n",
       "      <td>2</td>\n",
       "      <td>32.0</td>\n",
       "      <td>5</td>\n",
       "      <td>5</td>\n",
       "      <td>20000.0</td>\n",
       "    </tr>\n",
       "    <tr>\n",
       "      <th>8</th>\n",
       "      <td>Учтепинский</td>\n",
       "      <td>2</td>\n",
       "      <td>51.0</td>\n",
       "      <td>3</td>\n",
       "      <td>4</td>\n",
       "      <td>26200.0</td>\n",
       "    </tr>\n",
       "    <tr>\n",
       "      <th>9</th>\n",
       "      <td>Чиланзарский</td>\n",
       "      <td>1</td>\n",
       "      <td>30.0</td>\n",
       "      <td>1</td>\n",
       "      <td>4</td>\n",
       "      <td>22200.0</td>\n",
       "    </tr>\n",
       "  </tbody>\n",
       "</table>\n",
       "</div>"
      ],
      "text/plain": [
       "        district  rooms  size  level  max_levels    price\n",
       "0   Юнусабадский      3  57.0      4           4  52000.0\n",
       "1  Яккасарайский      2  52.0      4           5  56000.0\n",
       "2   Чиланзарский      2  42.0      4           4  37000.0\n",
       "3   Чиланзарский      3  65.0      1           4  49500.0\n",
       "4   Чиланзарский      3  70.0      3           5  55000.0\n",
       "5   Чиланзарский      1  28.0      1           4  25500.0\n",
       "6   Чиланзарский      1  30.0      2           4  21200.0\n",
       "7  Яккасарайский      2  32.0      5           5  20000.0\n",
       "8    Учтепинский      2  51.0      3           4  26200.0\n",
       "9   Чиланзарский      1  30.0      1           4  22200.0"
      ]
     },
     "execution_count": 22,
     "metadata": {},
     "output_type": "execute_result"
    }
   ],
   "source": [
    "import pandas as pd\n",
    "df = pd.read_csv('housing_LR.csv', index_col=0)\n",
    "df.head(10)"
   ]
  },
  {
   "cell_type": "markdown",
   "id": "cd004a7d-846f-4f4a-9a4c-9d5ce65ba3e9",
   "metadata": {},
   "source": [
    "# Ustunlar ta'rifi\n",
    "- `location` - sotilayotgan uy manzili\n",
    "- `district` - uy joylashgan tuman\n",
    "- `rooms` - xonalar soni\n",
    "- `size` - uy maydoni (kv.m)\n",
    "- `level` - uy"
   ]
  },
  {
   "cell_type": "code",
   "execution_count": 23,
   "id": "fdfd182e-e0fd-412d-98c9-d8fb3d76833c",
   "metadata": {},
   "outputs": [
    {
     "data": {
      "text/plain": [
       "Чиланзарский         1616\n",
       "Мирзо-Улугбекский    1342\n",
       "Учтепинский           872\n",
       "Юнусабадский          847\n",
       "Мирабадский           717\n",
       "Яккасарайский         628\n",
       "Яшнободский           456\n",
       "Шайхантахурский       356\n",
       "Олмазорский           262\n",
       "Сергелийский          159\n",
       "Янгихаётский           15\n",
       "Бектемирский            8\n",
       "Name: district, dtype: int64"
      ]
     },
     "execution_count": 23,
     "metadata": {},
     "output_type": "execute_result"
    }
   ],
   "source": [
    "df['district'].value_counts()"
   ]
  },
  {
   "cell_type": "markdown",
   "id": "a0811ab4-f241-4214-87a1-df3ae02cd6c5",
   "metadata": {},
   "source": [
    "**Darsimiz uchun Chilonzor tumanidagi uylarning narxini bashorat qilib ko'ramiz**"
   ]
  },
  {
   "cell_type": "code",
   "execution_count": 24,
   "id": "c54fde41-aead-4e9c-948b-5765763ee60f",
   "metadata": {},
   "outputs": [
    {
     "data": {
      "text/html": [
       "<div>\n",
       "<style scoped>\n",
       "    .dataframe tbody tr th:only-of-type {\n",
       "        vertical-align: middle;\n",
       "    }\n",
       "\n",
       "    .dataframe tbody tr th {\n",
       "        vertical-align: top;\n",
       "    }\n",
       "\n",
       "    .dataframe thead th {\n",
       "        text-align: right;\n",
       "    }\n",
       "</style>\n",
       "<table border=\"1\" class=\"dataframe\">\n",
       "  <thead>\n",
       "    <tr style=\"text-align: right;\">\n",
       "      <th></th>\n",
       "      <th>district</th>\n",
       "      <th>rooms</th>\n",
       "      <th>size</th>\n",
       "      <th>level</th>\n",
       "      <th>max_levels</th>\n",
       "      <th>price</th>\n",
       "    </tr>\n",
       "  </thead>\n",
       "  <tbody>\n",
       "    <tr>\n",
       "      <th>2</th>\n",
       "      <td>Чиланзарский</td>\n",
       "      <td>2</td>\n",
       "      <td>42.0</td>\n",
       "      <td>4</td>\n",
       "      <td>4</td>\n",
       "      <td>37000.0</td>\n",
       "    </tr>\n",
       "    <tr>\n",
       "      <th>3</th>\n",
       "      <td>Чиланзарский</td>\n",
       "      <td>3</td>\n",
       "      <td>65.0</td>\n",
       "      <td>1</td>\n",
       "      <td>4</td>\n",
       "      <td>49500.0</td>\n",
       "    </tr>\n",
       "    <tr>\n",
       "      <th>4</th>\n",
       "      <td>Чиланзарский</td>\n",
       "      <td>3</td>\n",
       "      <td>70.0</td>\n",
       "      <td>3</td>\n",
       "      <td>5</td>\n",
       "      <td>55000.0</td>\n",
       "    </tr>\n",
       "    <tr>\n",
       "      <th>5</th>\n",
       "      <td>Чиланзарский</td>\n",
       "      <td>1</td>\n",
       "      <td>28.0</td>\n",
       "      <td>1</td>\n",
       "      <td>4</td>\n",
       "      <td>25500.0</td>\n",
       "    </tr>\n",
       "    <tr>\n",
       "      <th>6</th>\n",
       "      <td>Чиланзарский</td>\n",
       "      <td>1</td>\n",
       "      <td>30.0</td>\n",
       "      <td>2</td>\n",
       "      <td>4</td>\n",
       "      <td>21200.0</td>\n",
       "    </tr>\n",
       "  </tbody>\n",
       "</table>\n",
       "</div>"
      ],
      "text/plain": [
       "       district  rooms  size  level  max_levels    price\n",
       "2  Чиланзарский      2  42.0      4           4  37000.0\n",
       "3  Чиланзарский      3  65.0      1           4  49500.0\n",
       "4  Чиланзарский      3  70.0      3           5  55000.0\n",
       "5  Чиланзарский      1  28.0      1           4  25500.0\n",
       "6  Чиланзарский      1  30.0      2           4  21200.0"
      ]
     },
     "execution_count": 24,
     "metadata": {},
     "output_type": "execute_result"
    }
   ],
   "source": [
    "housing = df[df.district=='Чиланзарский']\n",
    "housing.head()"
   ]
  },
  {
   "cell_type": "code",
   "execution_count": 25,
   "id": "f65fd3c7-fea1-4e62-b514-8962e7b8e7ce",
   "metadata": {},
   "outputs": [
    {
     "data": {
      "text/plain": [
       "2       42.0\n",
       "3       65.0\n",
       "4       70.0\n",
       "5       28.0\n",
       "6       30.0\n",
       "        ... \n",
       "7404    70.0\n",
       "7422    20.0\n",
       "7433    32.0\n",
       "7445    70.0\n",
       "7464    30.0\n",
       "Name: size, Length: 1616, dtype: float64"
      ]
     },
     "execution_count": 25,
     "metadata": {},
     "output_type": "execute_result"
    }
   ],
   "source": [
    "X = housing['size']\n",
    "X"
   ]
  },
  {
   "cell_type": "code",
   "execution_count": 26,
   "id": "94126c82-8be2-4b98-bbe6-4ae49934aa9f",
   "metadata": {},
   "outputs": [
    {
     "data": {
      "text/plain": [
       "2       37000.0\n",
       "3       49500.0\n",
       "4       55000.0\n",
       "5       25500.0\n",
       "6       21200.0\n",
       "         ...   \n",
       "7404    48000.0\n",
       "7422    18500.0\n",
       "7433    28000.0\n",
       "7445    49800.0\n",
       "7464    22914.0\n",
       "Name: price, Length: 1616, dtype: float64"
      ]
     },
     "execution_count": 26,
     "metadata": {},
     "output_type": "execute_result"
    }
   ],
   "source": [
    "y = housing['price']\n",
    "y"
   ]
  },
  {
   "cell_type": "markdown",
   "id": "7bcc2e9e-cd49-429e-9edc-62b42bcf52b3",
   "metadata": {},
   "source": [
    "**Narx va uy maydoni o'rtasida chiziqli bog'liqlik bor ekanini tekshirib ko'ramiz.**"
   ]
  },
  {
   "cell_type": "code",
   "execution_count": 27,
   "id": "7b447da1-3715-4c21-bc65-02ce3ee226c1",
   "metadata": {},
   "outputs": [],
   "source": [
    "import matplotlib.pyplot as plt\n",
    "import seaborn as sns\n",
    "%matplotlib inline"
   ]
  },
  {
   "cell_type": "code",
   "execution_count": 32,
   "id": "b3892c14-8b0a-40a3-bf96-487408787386",
   "metadata": {},
   "outputs": [
    {
     "data": {
      "image/png": "[encoded data removed]",
      "text/plain": [
       "<Figure size 720x432 with 1 Axes>"
      ]
     },
     "metadata": {
      "needs_background": "light"
     },
     "output_type": "display_data"
    }
   ],
   "source": [
    "plt.figure(figsize=(10,6))\n",
    "sns.scatterplot(data=housing, x='size', y='price')\n",
    "plt.show()"
   ]
  },
  {
   "cell_type": "code",
   "execution_count": 30,
   "id": "36b7afbb-4e03-4c34-ac86-de677141afc1",
   "metadata": {},
   "outputs": [
    {
     "data": {
      "image/png": "[encoded data removed]",
      "text/plain": [
       "<Figure size 720x432 with 1 Axes>"
      ]
     },
     "metadata": {
      "needs_background": "light"
     },
     "output_type": "display_data"
    }
   ],
   "source": [
    "plt.figure(figsize=(10,6))\n",
    "sns.regplot(data=housing, x='size', y='price', line_kws={\"color\": \"red\"})\n",
    "plt.show()"
   ]
  },
  {
   "cell_type": "markdown",
   "id": "8654473f-7b86-4bfb-8ff0-ad10099f472e",
   "metadata": {},
   "source": [
    "## 1-Vazifa\n",
    "Sizning vazifangiz yuqoridagi `X` va `y` o'zgaruvchilardan quyidagi formuladan foydalangan xolda $\\theta_0$ va $\\theta_1$ koeffisientlarni hisoblash.\n",
    "\n",
    "![Imgur](https://i.imgur.com/zZoXZxI.png)\n",
    "\n",
    "Bu yerda $\\tilde{x}$ - `X` ustun uchun o'rtracha qiymat,  $\\tilde{y}$ - `y` ustun uchun o'rtracha qiymat"
   ]
  },
  {
   "cell_type": "code",
   "execution_count": null,
   "id": "e4d146e8-1d8d-4de2-aa69-0af19f9c42fc",
   "metadata": {},
   "outputs": [],
   "source": []
  },
  {
   "cell_type": "code",
   "execution_count": null,
   "id": "71e8bf50-b3e3-4b1c-9f93-997dc2cb52fc",
   "metadata": {},
   "outputs": [],
   "source": []
  },
  {
   "cell_type": "code",
   "execution_count": null,
   "id": "4c782bb7-8dc6-4c46-ae1b-7331d6ec7614",
   "metadata": {},
   "outputs": [],
   "source": []
  },
  {
   "cell_type": "markdown",
   "id": "72486449-3955-4d88-9c2a-0f893a2aa6b5",
   "metadata": {},
   "source": [
    "## 2-Vazifa\n",
    "`X` dan bir nechta tasodifiy qiymatlarni ajratib oling va ularga mos keluvchi `y` ni yuqoridagi koeffisientlar yordamida hisoblab ko'ring.\n",
    "\n",
    "![Imgur](https://i.imgur.com/iT5tffj.png)"
   ]
  },
  {
   "cell_type": "code",
   "execution_count": null,
   "id": "77d7e635-6d95-4e8b-88f1-31b4aa533df4",
   "metadata": {},
   "outputs": [],
   "source": []
  },
  {
   "cell_type": "markdown",
   "id": "e62395a5-6d5d-49e4-b5ca-ef6375fa93e8",
   "metadata": {},
   "source": [
    "## 3-Vazifa\n",
    "\n",
    "Hisoblangan va asl qiymtlar o'rtasidagi RMSE (root mean square error), MAE (mean absolute error) hisoblang.\n",
    "\n",
    "![Imgur](https://i.imgur.com/GJH9CGy.png)\n",
    "\n",
    "![Imgur](https://i.imgur.com/aXL9iWa.png)"
   ]
  },
  {
   "cell_type": "code",
   "execution_count": null,
   "id": "ccc48a76-6efc-4c98-a12f-300f8a1bdaae",
   "metadata": {},
   "outputs": [],
   "source": []
  }
 ],
 "metadata": {
  "language_info": {
   "codemirror_mode": {
    "name": "ipython",
    "version": 3
   },
   "file_extension": ".py",
   "mimetype": "text/x-python",
   "name": "python",
   "nbconvert_exporter": "python",
   "pygments_lexer": "ipython3",
   "version": "3.8.8"
  }
 },
 "nbformat": 4,
 "nbformat_minor": 5
}